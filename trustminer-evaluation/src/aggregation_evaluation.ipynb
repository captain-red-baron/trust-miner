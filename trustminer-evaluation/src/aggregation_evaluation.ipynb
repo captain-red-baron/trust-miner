{
 "cells": [
  {
   "cell_type": "markdown",
   "metadata": {},
   "source": [
    "# Preprocessing for Evaluation\n",
    "To evaluate the trust mining method, we use several bpmn diagrams, mesaure their features, mining time and metrics and compare them"
   ]
  },
  {
   "cell_type": "code",
   "execution_count": 1,
   "metadata": {},
   "outputs": [],
   "source": [
    "import pandas as pd\n",
    "import numpy as np"
   ]
  },
  {
   "cell_type": "markdown",
   "metadata": {},
   "source": [
    "This is the first dataset from BPMN 6219. See here: https://ieee-dataport.org/documents/6219-pairs-bpmn-images-and-definition-files"
   ]
  },
  {
   "cell_type": "code",
   "execution_count": 20,
   "metadata": {},
   "outputs": [],
   "source": [
    "bpmn_6219 = pd.read_csv(\"../evaluation_trust_studio_1_bpm_6219.csv\")"
   ]
  },
  {
   "cell_type": "code",
   "execution_count": 24,
   "metadata": {},
   "outputs": [],
   "source": [
    "valid_bpmn_6219_df = bpmn_6219[bpmn_6219[\"modelIsValidBPMN\"]]"
   ]
  },
  {
   "cell_type": "code",
   "execution_count": 25,
   "metadata": {},
   "outputs": [
    {
     "data": {
      "text/plain": [
       "251"
      ]
     },
     "execution_count": 25,
     "metadata": {},
     "output_type": "execute_result"
    }
   ],
   "source": [
    "len(valid_bpmn_6219_df)"
   ]
  },
  {
   "cell_type": "code",
   "execution_count": 31,
   "metadata": {},
   "outputs": [
    {
     "data": {
      "text/plain": [
       "24"
      ]
     },
     "execution_count": 31,
     "metadata": {},
     "output_type": "execute_result"
    }
   ],
   "source": [
    "len(valid_bpmn_6219_df[valid_bpmn_df[\"modelNP\"]>1])"
   ]
  },
  {
   "cell_type": "code",
   "execution_count": 32,
   "metadata": {},
   "outputs": [],
   "source": [
    "usable_bpmn_6219 = valid_bpmn_6219_df[valid_bpmn_df[\"modelNP\"]>1]"
   ]
  },
  {
   "cell_type": "code",
   "execution_count": 9,
   "metadata": {},
   "outputs": [
    {
     "name": "stdout",
     "output_type": "stream",
     "text": [
      "Collecting pm4py\n",
      "\u001b[?25l  Downloading https://files.pythonhosted.org/packages/cf/97/ba39909ece5f3cc039a81750a44da5373002d783d66438eeeff2307b00c3/pm4py-2.0.1.3-py3-none-any.whl (620kB)\n",
      "\u001b[K     |████████████████████████████████| 624kB 3.2MB/s eta 0:00:01\n",
      "\u001b[?25hCollecting sympy\n",
      "\u001b[?25l  Downloading https://files.pythonhosted.org/packages/e0/1f/8cbbf698e853019ac3dc5d60ca8f6be4ace4542b2f05f7b62949617fc98e/sympy-1.6.2-py3-none-any.whl (5.8MB)\n",
      "\u001b[K     |████████████████████████████████| 5.8MB 7.0MB/s eta 0:00:01     |██                              | 378kB 7.0MB/s eta 0:00:01\n",
      "\u001b[?25hCollecting stringdist\n",
      "  Downloading https://files.pythonhosted.org/packages/85/f0/c56cbe92b4b06fbc7adaa81917ad34d7027834e166fff2d2db73961c67fa/StringDist-1.0.9.tar.gz\n",
      "Collecting intervaltree\n",
      "  Downloading https://files.pythonhosted.org/packages/50/fb/396d568039d21344639db96d940d40eb62befe704ef849b27949ded5c3bb/intervaltree-3.1.0.tar.gz\n",
      "Collecting tqdm\n",
      "\u001b[?25l  Downloading https://files.pythonhosted.org/packages/dc/7e/bc84ebdb47cfc1f643d026570cb24dd40c2b7a29e167ea101f1702717658/tqdm-4.52.0-py2.py3-none-any.whl (71kB)\n",
      "\u001b[K     |████████████████████████████████| 71kB 5.5MB/s eta 0:00:011\n",
      "\u001b[?25hRequirement already satisfied: pandas in /usr/local/lib/python3.7/site-packages (from pm4py) (1.1.4)\n",
      "Collecting scipy\n",
      "\u001b[?25l  Downloading https://files.pythonhosted.org/packages/d9/43/1cb3c42cf46fd94fde4762ce8de69636d861759e7de7135cc02758203bf8/scipy-1.5.4-cp37-cp37m-macosx_10_9_x86_64.whl (28.7MB)\n",
      "\u001b[K     |████████████████████████████████| 28.7MB 5.3MB/s eta 0:00:01    |███████                         | 6.3MB 6.1MB/s eta 0:00:04     |████████████                    | 10.8MB 6.1MB/s eta 0:00:03\n",
      "\u001b[?25hCollecting pulp<=2.1\n",
      "\u001b[?25l  Downloading https://files.pythonhosted.org/packages/41/34/757c88c320f80ce602199603afe63aed1e0bc11180b9a9fb6018fb2ce7ef/PuLP-2.1-py3-none-any.whl (40.6MB)\n",
      "\u001b[K     |████████████████████████████████| 40.6MB 5.6MB/s eta 0:00:01     |██████████████████████████▍     | 33.5MB 6.1MB/s eta 0:00:02\n",
      "\u001b[?25hCollecting deprecation\n",
      "  Downloading https://files.pythonhosted.org/packages/02/c3/253a89ee03fc9b9682f1541728eb66db7db22148cd94f89ab22528cd1e1b/deprecation-2.1.0-py2.py3-none-any.whl\n",
      "Collecting jsonpickle\n",
      "  Downloading https://files.pythonhosted.org/packages/af/ca/4fee219cc4113a5635e348ad951cf8a2e47fed2e3342312493f5b73d0007/jsonpickle-1.4.1-py2.py3-none-any.whl\n",
      "Requirement already satisfied: matplotlib in /usr/local/lib/python3.7/site-packages (from pm4py) (3.3.3)\n",
      "Requirement already satisfied: pytz in /usr/local/lib/python3.7/site-packages (from pm4py) (2020.4)\n",
      "Requirement already satisfied: networkx in /usr/local/lib/python3.7/site-packages (from pm4py) (2.5)\n",
      "Requirement already satisfied: numpy in /usr/local/lib/python3.7/site-packages (from pm4py) (1.19.4)\n",
      "Collecting pyvis\n",
      "  Downloading https://files.pythonhosted.org/packages/77/e1/bee44bc4ec826bb7ed1f1ff52244bca3745b1a7d72033fc84ffeed61725b/pyvis-0.1.8.2-py3-none-any.whl\n",
      "Collecting scikit-learn\n",
      "\u001b[?25l  Downloading https://files.pythonhosted.org/packages/8f/e4/d5d59e76f274c7bf82707bb45cda9b2f1ef2874e66f80d53a91bca17374c/scikit_learn-0.23.2-cp37-cp37m-macosx_10_9_x86_64.whl (7.2MB)\n",
      "\u001b[K     |████████████████████████████████| 7.2MB 6.2MB/s eta 0:00:01\n",
      "\u001b[?25hCollecting lxml\n",
      "\u001b[?25l  Downloading https://files.pythonhosted.org/packages/ca/29/954d6c0981e9e140058699c6ff2269cc432b846db881218080ff0f4d4d6a/lxml-4.6.1-cp37-cp37m-macosx_10_9_x86_64.whl (4.5MB)\n",
      "\u001b[K     |████████████████████████████████| 4.5MB 8.1MB/s eta 0:00:01\n",
      "\u001b[?25hCollecting graphviz\n",
      "  Downloading https://files.pythonhosted.org/packages/64/72/f4f4205db2a58e7a49e8190c0b49e9669d7ecadf6385b5bcdcf910354a6d/graphviz-0.15-py2.py3-none-any.whl\n",
      "Requirement already satisfied: pydotplus in /usr/local/lib/python3.7/site-packages (from pm4py) (2.0.2)\n",
      "Collecting pm4pycvxopt>=0.0.10; python_version < \"3.9\"\n",
      "  Downloading https://files.pythonhosted.org/packages/02/55/94d4543809dd37de3e49449917d24fd4114316f6e952b32c5705e7f12a3c/pm4pycvxopt-0.0.10-py3-none-any.whl\n",
      "Collecting mpmath>=0.19\n",
      "\u001b[?25l  Downloading https://files.pythonhosted.org/packages/ca/63/3384ebb3b51af9610086b23ea976e6d27d6d97bf140a76a365bd77a3eb32/mpmath-1.1.0.tar.gz (512kB)\n",
      "\u001b[K     |████████████████████████████████| 522kB 6.1MB/s eta 0:00:01\n",
      "\u001b[?25hCollecting sortedcontainers<3.0,>=2.0\n",
      "  Downloading https://files.pythonhosted.org/packages/20/4d/a7046ae1a1a4cc4e9bbed194c387086f06b25038be596543d026946330c9/sortedcontainers-2.3.0-py2.py3-none-any.whl\n",
      "Requirement already satisfied: python-dateutil>=2.7.3 in /usr/local/lib/python3.7/site-packages (from pandas->pm4py) (2.8.1)\n",
      "Requirement already satisfied: pyparsing>=2.0.1 in /usr/local/lib/python3.7/site-packages (from pulp<=2.1->pm4py) (2.4.7)\n",
      "Requirement already satisfied: packaging in /usr/local/lib/python3.7/site-packages (from deprecation->pm4py) (20.4)\n",
      "Requirement already satisfied: importlib-metadata in /usr/local/lib/python3.7/site-packages (from jsonpickle->pm4py) (2.0.0)\n",
      "Requirement already satisfied: pillow>=6.2.0 in /usr/local/lib/python3.7/site-packages (from matplotlib->pm4py) (8.0.1)\n",
      "Requirement already satisfied: cycler>=0.10 in /usr/local/lib/python3.7/site-packages (from matplotlib->pm4py) (0.10.0)\n",
      "Requirement already satisfied: kiwisolver>=1.0.1 in /usr/local/lib/python3.7/site-packages (from matplotlib->pm4py) (1.3.1)\n",
      "Requirement already satisfied: decorator>=4.3.0 in /usr/local/lib/python3.7/site-packages (from networkx->pm4py) (4.4.2)\n",
      "Requirement already satisfied: ipython>=5.3.0 in /usr/local/lib/python3.7/site-packages (from pyvis->pm4py) (7.19.0)\n",
      "Requirement already satisfied: jinja2>=2.9.6 in /usr/local/lib/python3.7/site-packages (from pyvis->pm4py) (2.11.2)\n",
      "Collecting threadpoolctl>=2.0.0\n",
      "  Downloading https://files.pythonhosted.org/packages/f7/12/ec3f2e203afa394a149911729357aa48affc59c20e2c1c8297a60f33f133/threadpoolctl-2.1.0-py3-none-any.whl\n",
      "Collecting joblib>=0.11\n",
      "\u001b[?25l  Downloading https://files.pythonhosted.org/packages/fc/c9/f58220ac44a1592f79a343caba12f6837f9e0c04c196176a3d66338e1ea8/joblib-0.17.0-py3-none-any.whl (301kB)\n",
      "\u001b[K     |████████████████████████████████| 307kB 6.8MB/s eta 0:00:01\n",
      "\u001b[?25hCollecting cvxopt\n",
      "\u001b[?25l  Downloading https://files.pythonhosted.org/packages/92/fa/10beeb4c6ea4d89f1154c7273a907cab5ce3345f4ac4aa716b21a17502f3/cvxopt-1.2.5-cp37-cp37m-macosx_10_9_x86_64.whl (3.1MB)\n",
      "\u001b[K     |████████████████████████████████| 3.1MB 6.9MB/s eta 0:00:01     |████████▌                       | 808kB 6.9MB/s eta 0:00:01\n",
      "\u001b[?25hRequirement already satisfied: six>=1.5 in /usr/local/lib/python3.7/site-packages (from python-dateutil>=2.7.3->pandas->pm4py) (1.15.0)\n",
      "Requirement already satisfied: zipp>=0.5 in /usr/local/lib/python3.7/site-packages (from importlib-metadata->jsonpickle->pm4py) (3.4.0)\n",
      "Requirement already satisfied: jedi>=0.10 in /usr/local/lib/python3.7/site-packages (from ipython>=5.3.0->pyvis->pm4py) (0.17.2)\n",
      "Requirement already satisfied: setuptools>=18.5 in /usr/local/lib/python3.7/site-packages (from ipython>=5.3.0->pyvis->pm4py) (42.0.2)\n",
      "Requirement already satisfied: pygments in /usr/local/lib/python3.7/site-packages (from ipython>=5.3.0->pyvis->pm4py) (2.7.2)\n",
      "Requirement already satisfied: traitlets>=4.2 in /usr/local/lib/python3.7/site-packages (from ipython>=5.3.0->pyvis->pm4py) (5.0.5)\n",
      "Requirement already satisfied: backcall in /usr/local/lib/python3.7/site-packages (from ipython>=5.3.0->pyvis->pm4py) (0.2.0)\n",
      "Requirement already satisfied: pexpect>4.3; sys_platform != \"win32\" in /usr/local/lib/python3.7/site-packages (from ipython>=5.3.0->pyvis->pm4py) (4.8.0)\n",
      "Requirement already satisfied: prompt-toolkit!=3.0.0,!=3.0.1,<3.1.0,>=2.0.0 in /usr/local/lib/python3.7/site-packages (from ipython>=5.3.0->pyvis->pm4py) (3.0.8)\n",
      "Requirement already satisfied: pickleshare in /usr/local/lib/python3.7/site-packages (from ipython>=5.3.0->pyvis->pm4py) (0.7.5)\n",
      "Requirement already satisfied: appnope; sys_platform == \"darwin\" in /usr/local/lib/python3.7/site-packages (from ipython>=5.3.0->pyvis->pm4py) (0.1.0)\n",
      "Requirement already satisfied: MarkupSafe>=0.23 in /usr/local/lib/python3.7/site-packages (from jinja2>=2.9.6->pyvis->pm4py) (1.1.1)\n",
      "Requirement already satisfied: parso<0.8.0,>=0.7.0 in /usr/local/lib/python3.7/site-packages (from jedi>=0.10->ipython>=5.3.0->pyvis->pm4py) (0.7.1)\n",
      "Requirement already satisfied: ipython-genutils in /usr/local/lib/python3.7/site-packages (from traitlets>=4.2->ipython>=5.3.0->pyvis->pm4py) (0.2.0)\n",
      "Requirement already satisfied: ptyprocess>=0.5 in /usr/local/lib/python3.7/site-packages (from pexpect>4.3; sys_platform != \"win32\"->ipython>=5.3.0->pyvis->pm4py) (0.6.0)\n",
      "Requirement already satisfied: wcwidth in /usr/local/lib/python3.7/site-packages (from prompt-toolkit!=3.0.0,!=3.0.1,<3.1.0,>=2.0.0->ipython>=5.3.0->pyvis->pm4py) (0.2.5)\n",
      "Building wheels for collected packages: stringdist, intervaltree, mpmath\n",
      "  Building wheel for stringdist (setup.py) ... \u001b[?25ldone\n",
      "\u001b[?25h  Created wheel for stringdist: filename=StringDist-1.0.9-cp37-cp37m-macosx_10_15_x86_64.whl size=8300 sha256=446def2130a98aa14b979f879bd333c5b5207514f85fcb522ca602e982184c2b\n",
      "  Stored in directory: /Users/marcelmuller/Library/Caches/pip/wheels/c3/1b/bb/bf0de4d64d8ca38759811fe3353e441f12feb606fb3d1d2e11\n",
      "  Building wheel for intervaltree (setup.py) ... \u001b[?25ldone\n",
      "\u001b[?25h  Created wheel for intervaltree: filename=intervaltree-3.1.0-py2.py3-none-any.whl size=26103 sha256=37a63b5f910acb3c5070911c6d028c529d0d20a53227cca0e82563f28f77c3d6\n",
      "  Stored in directory: /Users/marcelmuller/Library/Caches/pip/wheels/f3/f2/66/e9c30d3e9499e65ea2fa0d07c002e64de63bd0adaa49c445bf\n",
      "  Building wheel for mpmath (setup.py) ... \u001b[?25ldone\n",
      "\u001b[?25h  Created wheel for mpmath: filename=mpmath-1.1.0-cp37-none-any.whl size=532240 sha256=759ef7f9be0ab808dc7b57b20615f5b4bdb3fae24a14d392f31ac5a11defb4ba\n",
      "  Stored in directory: /Users/marcelmuller/Library/Caches/pip/wheels/63/9d/8e/37c3f6506ed3f152733a699e92d8e0c9f5e5f01dea262f80ad\n",
      "Successfully built stringdist intervaltree mpmath\n",
      "Installing collected packages: mpmath, sympy, stringdist, sortedcontainers, intervaltree, tqdm, scipy, pulp, deprecation, jsonpickle, pyvis, threadpoolctl, joblib, scikit-learn, lxml, graphviz, cvxopt, pm4pycvxopt, pm4py\n",
      "Successfully installed cvxopt-1.2.5 deprecation-2.1.0 graphviz-0.15 intervaltree-3.1.0 joblib-0.17.0 jsonpickle-1.4.1 lxml-4.6.1 mpmath-1.1.0 pm4py-2.0.1.3 pm4pycvxopt-0.0.10 pulp-2.1 pyvis-0.1.8.2 scikit-learn-0.23.2 scipy-1.5.4 sortedcontainers-2.3.0 stringdist-1.0.9 sympy-1.6.2 threadpoolctl-2.1.0 tqdm-4.52.0\n"
     ]
    }
   ],
   "source": [
    "import sys\n",
    "!{sys.executable} -m pip install pm4py"
   ]
  },
  {
   "cell_type": "code",
   "execution_count": null,
   "metadata": {},
   "outputs": [],
   "source": []
  }
 ],
 "metadata": {
  "kernelspec": {
   "display_name": "Python 3",
   "language": "python",
   "name": "python3"
  },
  "language_info": {
   "codemirror_mode": {
    "name": "ipython",
    "version": 3
   },
   "file_extension": ".py",
   "mimetype": "text/x-python",
   "name": "python",
   "nbconvert_exporter": "python",
   "pygments_lexer": "ipython3",
   "version": "3.7.6"
  }
 },
 "nbformat": 4,
 "nbformat_minor": 4
}
