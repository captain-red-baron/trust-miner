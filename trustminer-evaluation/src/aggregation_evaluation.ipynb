{
 "cells": [
  {
   "cell_type": "markdown",
   "metadata": {},
   "source": [
    "# Preprocessing for Evaluation\n",
    "To evaluate the trust mining method, we use several bpmn diagrams, mesaure their features, mining time and metrics and compare them"
   ]
  },
  {
   "cell_type": "code",
   "execution_count": 327,
   "metadata": {},
   "outputs": [],
   "source": [
    "import pandas as pd\n",
    "import numpy as np\n",
    "import matplotlib.pyplot as plt\n",
    "pd.options.display.max_columns = None"
   ]
  },
  {
   "cell_type": "markdown",
   "metadata": {},
   "source": [
    "This is the first dataset from BPMN 6219 and from the Unicam set. See here: https://ieee-dataport.org/documents/6219-pairs-bpmn-images-and-definition-files"
   ]
  },
  {
   "cell_type": "code",
   "execution_count": 328,
   "metadata": {},
   "outputs": [],
   "source": [
    "bpmn_6219 = pd.read_csv(\"../evaluation_bpmn6219.csv\")"
   ]
  },
  {
   "cell_type": "code",
   "execution_count": 329,
   "metadata": {},
   "outputs": [],
   "source": [
    "bpmn_81 = pd.read_csv(\"../evaluation_bpmn81.csv\")"
   ]
  },
  {
   "cell_type": "code",
   "execution_count": 330,
   "metadata": {},
   "outputs": [],
   "source": [
    "bpmn_6219_81 = bpmn_6219.append(bpmn_81)"
   ]
  },
  {
   "cell_type": "code",
   "execution_count": 331,
   "metadata": {},
   "outputs": [
    {
     "data": {
      "text/plain": [
       "6300"
      ]
     },
     "execution_count": 331,
     "metadata": {},
     "output_type": "execute_result"
    }
   ],
   "source": [
    "len(bpmn_6219_81)"
   ]
  },
  {
   "cell_type": "code",
   "execution_count": 335,
   "metadata": {},
   "outputs": [
    {
     "data": {
      "image/png": "[encoded data removed]",
      "text/plain": [
       "<Figure size 432x288 with 1 Axes>"
      ]
     },
     "metadata": {},
     "output_type": "display_data"
    }
   ],
   "source": [
    "plt.hist(bpmn_6219_81[['endEventRequiredErrors',\n",
    "                       'startEventRequiredErrors', 'fakeJoinErrors', 'noDisconnectedErrors',\n",
    "                       'superfluousGatewayErrors', 'subProcessBlankStartEventErrors',\n",
    "                       'noGatewayJoinForkErrors', 'noImplicitSplitErrors',\n",
    "                       'noInclusiveGatewayErrors', 'conditionalFlowErrors']], range=(0,5))\n",
    "plt.show()"
   ]
  },
  {
   "cell_type": "code",
   "execution_count": 337,
   "metadata": {},
   "outputs": [
    {
     "data": {
      "text/plain": [
       "endEventRequiredErrors             4352\n",
       "startEventRequiredErrors           3188\n",
       "fakeJoinErrors                     8179\n",
       "noDisconnectedErrors               3342\n",
       "superfluousGatewayErrors            507\n",
       "subProcessBlankStartEventErrors       7\n",
       "noGatewayJoinForkErrors            1047\n",
       "noImplicitSplitErrors              2848\n",
       "noInclusiveGatewayErrors            473\n",
       "conditionalFlowErrors              2956\n",
       "dtype: int64"
      ]
     },
     "execution_count": 337,
     "metadata": {},
     "output_type": "execute_result"
    }
   ],
   "source": [
    "bpmn_6219_81[['endEventRequiredErrors',\n",
    "                       'startEventRequiredErrors', 'fakeJoinErrors', 'noDisconnectedErrors',\n",
    "                       'superfluousGatewayErrors', 'subProcessBlankStartEventErrors',\n",
    "                       'noGatewayJoinForkErrors', 'noImplicitSplitErrors',\n",
    "                       'noInclusiveGatewayErrors', 'conditionalFlowErrors']].sum()"
   ]
  },
  {
   "cell_type": "code",
   "execution_count": 376,
   "metadata": {},
   "outputs": [],
   "source": [
    "acceptable_bpmn_6219_81_df = bpmn_6219_81[(bpmn_6219_81['endEventRequiredErrors'] == 0) & \n",
    "                                          (bpmn_6219_81['startEventRequiredErrors'] == 0) &\n",
    "                                          (bpmn_6219_81['noDisconnectedErrors'] == 0) &\n",
    "                                          #(bpmn_6219_81['superfluousGatewayErrors'] == 0) &\n",
    "                                          (bpmn_6219_81['subProcessBlankStartEventErrors'] == 0) &\n",
    "                                          (bpmn_6219_81['noGatewayJoinForkErrors'] == 0) &\n",
    "                                          (bpmn_6219_81['noImplicitSplitErrors'] == 0) &\n",
    "                                          (bpmn_6219_81['noInclusiveGatewayErrors'] == 0) &\n",
    "                                          (bpmn_6219_81['conditionalFlowErrors'] == 0) #&\n",
    "                                          #(bpmn_6219_81['fakeJoinErrors'] == 0)\n",
    "                                         ]"
   ]
  },
  {
   "cell_type": "code",
   "execution_count": 377,
   "metadata": {},
   "outputs": [
    {
     "data": {
      "text/plain": [
       "852"
      ]
     },
     "execution_count": 377,
     "metadata": {},
     "output_type": "execute_result"
    }
   ],
   "source": [
    "usable_bpmn_6219_81_df = acceptable_bpmn_6219_81_df[acceptable_bpmn_6219_81_df[\"modelNP\"]>1]\n",
    "len(usable_bpmn_6219_81_df)"
   ]
  },
  {
   "cell_type": "code",
   "execution_count": 379,
   "metadata": {},
   "outputs": [
    {
     "data": {
      "text/plain": [
       "119"
      ]
     },
     "execution_count": 379,
     "metadata": {},
     "output_type": "execute_result"
    }
   ],
   "source": [
    "unique_bpmn_6219_81_df = usable_bpmn_6219_81_df.drop_duplicates(subset=['modelIsValidBPMN', 'modelTNT', 'modelTNCS', 'modelTNA', \n",
    "                                                             'modelTNDO', 'modelTNG', 'modelTNEE', 'modelTNIE', 'modelTNSE',\n",
    "                                                             'modelTNE', 'modelTNSF', 'modelNP', 'modelNL', 'modelCLA', 'modelCLP',\n",
    "                                                             'modelPDOPin', 'modelPDOPout', 'modelPDOTOut', 'modelPLT', 'tapeGU',\n",
    "                                                             'tapeLUB', 'tapeAvgLUB',\n",
    "                                                             'tapeAvgDI', 'tapeAvgDD', 'tapeAvgMI', 'tapeAvgMD',\n",
    "                                                             'applicationDomain', 'endEventRequiredErrors',\n",
    "                                                             'startEventRequiredErrors', 'fakeJoinErrors', 'noDisconnectedErrors',\n",
    "                                                             'superfluousGatewayErrors', 'subProcessBlankStartEventErrors',\n",
    "                                                             'noGatewayJoinForkErrors', 'noImplicitSplitErrors',\n",
    "                                                             'noInclusiveGatewayErrors', 'conditionalFlowErrors'], keep='first')\n",
    "len(unique_bpmn_6219_81_df)"
   ]
  },
  {
   "cell_type": "code",
   "execution_count": 380,
   "metadata": {},
   "outputs": [],
   "source": [
    "#valid_bpmn_6219_81_df = bpmn_6219_81[bpmn_6219_81[\"modelIsValidBPMN\"]]\n",
    "#len(valid_bpmn_6219_81_df)"
   ]
  },
  {
   "cell_type": "code",
   "execution_count": 381,
   "metadata": {},
   "outputs": [
    {
     "data": {
      "text/html": [
       "<div>\n",
       "<style scoped>\n",
       "    .dataframe tbody tr th:only-of-type {\n",
       "        vertical-align: middle;\n",
       "    }\n",
       "\n",
       "    .dataframe tbody tr th {\n",
       "        vertical-align: top;\n",
       "    }\n",
       "\n",
       "    .dataframe thead th {\n",
       "        text-align: right;\n",
       "    }\n",
       "</style>\n",
       "<table border=\"1\" class=\"dataframe\">\n",
       "  <thead>\n",
       "    <tr style=\"text-align: right;\">\n",
       "      <th></th>\n",
       "      <th>fileName</th>\n",
       "      <th>modelIsValidBPMN</th>\n",
       "      <th>modelTNT</th>\n",
       "      <th>modelTNCS</th>\n",
       "      <th>modelTNA</th>\n",
       "      <th>modelTNDO</th>\n",
       "      <th>modelTNG</th>\n",
       "      <th>modelTNEE</th>\n",
       "      <th>modelTNIE</th>\n",
       "      <th>modelTNSE</th>\n",
       "      <th>modelTNE</th>\n",
       "      <th>modelTNSF</th>\n",
       "      <th>modelNP</th>\n",
       "      <th>modelNL</th>\n",
       "      <th>modelCLA</th>\n",
       "      <th>modelCLP</th>\n",
       "      <th>modelPDOPin</th>\n",
       "      <th>modelPDOPout</th>\n",
       "      <th>modelPDOTOut</th>\n",
       "      <th>modelPLT</th>\n",
       "      <th>tapeGU</th>\n",
       "      <th>tapeALU</th>\n",
       "      <th>tapeRLU</th>\n",
       "      <th>tapeLUB</th>\n",
       "      <th>tapeAvgLUB</th>\n",
       "      <th>tapeDI</th>\n",
       "      <th>tapeDD</th>\n",
       "      <th>tapeAvgDI</th>\n",
       "      <th>tapeAvgDD</th>\n",
       "      <th>tapeMI</th>\n",
       "      <th>tapeMD</th>\n",
       "      <th>tapeAvgMI</th>\n",
       "      <th>tapeAvgMD</th>\n",
       "      <th>tapeExecutionTimeMs</th>\n",
       "      <th>applicationDomain</th>\n",
       "      <th>endEventRequiredErrors</th>\n",
       "      <th>startEventRequiredErrors</th>\n",
       "      <th>fakeJoinErrors</th>\n",
       "      <th>noDisconnectedErrors</th>\n",
       "      <th>superfluousGatewayErrors</th>\n",
       "      <th>subProcessBlankStartEventErrors</th>\n",
       "      <th>noGatewayJoinForkErrors</th>\n",
       "      <th>noImplicitSplitErrors</th>\n",
       "      <th>noInclusiveGatewayErrors</th>\n",
       "      <th>conditionalFlowErrors</th>\n",
       "    </tr>\n",
       "  </thead>\n",
       "  <tbody>\n",
       "    <tr>\n",
       "      <th>5</th>\n",
       "      <td>00005.bpmn</td>\n",
       "      <td>True</td>\n",
       "      <td>15</td>\n",
       "      <td>0</td>\n",
       "      <td>15</td>\n",
       "      <td>0</td>\n",
       "      <td>4</td>\n",
       "      <td>3</td>\n",
       "      <td>1</td>\n",
       "      <td>1</td>\n",
       "      <td>3</td>\n",
       "      <td>27</td>\n",
       "      <td>3</td>\n",
       "      <td>5</td>\n",
       "      <td>0.555556</td>\n",
       "      <td>1.000000</td>\n",
       "      <td>0.0</td>\n",
       "      <td>0.0</td>\n",
       "      <td>0.0</td>\n",
       "      <td>0.333333</td>\n",
       "      <td>211</td>\n",
       "      <td>70.333333</td>\n",
       "      <td>0.6113744075829384,0.25118483412322273,0.13744...</td>\n",
       "      <td>0.27804107424960506,-0.08214849921011058,-0.19...</td>\n",
       "      <td>9.251859e-18</td>\n",
       "      <td>0,0,0</td>\n",
       "      <td>0,0,0</td>\n",
       "      <td>0</td>\n",
       "      <td>0</td>\n",
       "      <td>2,1,0</td>\n",
       "      <td>1,1,1</td>\n",
       "      <td>1.000000</td>\n",
       "      <td>1.000000</td>\n",
       "      <td>46.121494</td>\n",
       "      <td>NaN</td>\n",
       "      <td>0</td>\n",
       "      <td>0</td>\n",
       "      <td>3</td>\n",
       "      <td>0</td>\n",
       "      <td>0</td>\n",
       "      <td>0</td>\n",
       "      <td>0</td>\n",
       "      <td>0</td>\n",
       "      <td>0</td>\n",
       "      <td>0</td>\n",
       "    </tr>\n",
       "    <tr>\n",
       "      <th>13</th>\n",
       "      <td>00013.bpmn</td>\n",
       "      <td>True</td>\n",
       "      <td>11</td>\n",
       "      <td>0</td>\n",
       "      <td>11</td>\n",
       "      <td>0</td>\n",
       "      <td>2</td>\n",
       "      <td>2</td>\n",
       "      <td>3</td>\n",
       "      <td>3</td>\n",
       "      <td>2</td>\n",
       "      <td>20</td>\n",
       "      <td>2</td>\n",
       "      <td>0</td>\n",
       "      <td>0.550000</td>\n",
       "      <td>4.000000</td>\n",
       "      <td>0.0</td>\n",
       "      <td>0.0</td>\n",
       "      <td>0.0</td>\n",
       "      <td>0.000000</td>\n",
       "      <td>0</td>\n",
       "      <td>0.000000</td>\n",
       "      <td>NaN</td>\n",
       "      <td>NaN</td>\n",
       "      <td>0.000000e+00</td>\n",
       "      <td>NaN</td>\n",
       "      <td>NaN</td>\n",
       "      <td>0</td>\n",
       "      <td>0</td>\n",
       "      <td>NaN</td>\n",
       "      <td>NaN</td>\n",
       "      <td>0.000000</td>\n",
       "      <td>0.000000</td>\n",
       "      <td>22.819357</td>\n",
       "      <td>NaN</td>\n",
       "      <td>0</td>\n",
       "      <td>0</td>\n",
       "      <td>2</td>\n",
       "      <td>0</td>\n",
       "      <td>0</td>\n",
       "      <td>0</td>\n",
       "      <td>0</td>\n",
       "      <td>0</td>\n",
       "      <td>0</td>\n",
       "      <td>0</td>\n",
       "    </tr>\n",
       "    <tr>\n",
       "      <th>14</th>\n",
       "      <td>00014.bpmn</td>\n",
       "      <td>True</td>\n",
       "      <td>11</td>\n",
       "      <td>0</td>\n",
       "      <td>11</td>\n",
       "      <td>0</td>\n",
       "      <td>2</td>\n",
       "      <td>3</td>\n",
       "      <td>4</td>\n",
       "      <td>4</td>\n",
       "      <td>2</td>\n",
       "      <td>21</td>\n",
       "      <td>2</td>\n",
       "      <td>0</td>\n",
       "      <td>0.523810</td>\n",
       "      <td>3.000000</td>\n",
       "      <td>0.0</td>\n",
       "      <td>0.0</td>\n",
       "      <td>0.0</td>\n",
       "      <td>0.000000</td>\n",
       "      <td>163</td>\n",
       "      <td>81.500000</td>\n",
       "      <td>0.4049079754601227,0.5950920245398773</td>\n",
       "      <td>-0.0950920245398773,0.0950920245398773</td>\n",
       "      <td>0.000000e+00</td>\n",
       "      <td>0,0</td>\n",
       "      <td>0,0</td>\n",
       "      <td>0</td>\n",
       "      <td>0</td>\n",
       "      <td>1,1</td>\n",
       "      <td>1,1</td>\n",
       "      <td>1.000000</td>\n",
       "      <td>1.000000</td>\n",
       "      <td>35.124959</td>\n",
       "      <td>NaN</td>\n",
       "      <td>0</td>\n",
       "      <td>0</td>\n",
       "      <td>1</td>\n",
       "      <td>0</td>\n",
       "      <td>0</td>\n",
       "      <td>0</td>\n",
       "      <td>0</td>\n",
       "      <td>0</td>\n",
       "      <td>0</td>\n",
       "      <td>0</td>\n",
       "    </tr>\n",
       "    <tr>\n",
       "      <th>79</th>\n",
       "      <td>00079.bpmn</td>\n",
       "      <td>False</td>\n",
       "      <td>12</td>\n",
       "      <td>0</td>\n",
       "      <td>12</td>\n",
       "      <td>1</td>\n",
       "      <td>9</td>\n",
       "      <td>5</td>\n",
       "      <td>7</td>\n",
       "      <td>7</td>\n",
       "      <td>4</td>\n",
       "      <td>37</td>\n",
       "      <td>3</td>\n",
       "      <td>3</td>\n",
       "      <td>0.324324</td>\n",
       "      <td>2.333333</td>\n",
       "      <td>0.0</td>\n",
       "      <td>0.0</td>\n",
       "      <td>0.0</td>\n",
       "      <td>0.250000</td>\n",
       "      <td>260</td>\n",
       "      <td>86.666667</td>\n",
       "      <td>0.5307692307692308,0.3730769230769231,0.096153...</td>\n",
       "      <td>0.19743589743589746,0.03974358974358977,-0.237...</td>\n",
       "      <td>1.850372e-17</td>\n",
       "      <td>0,0,0</td>\n",
       "      <td>0,0,0</td>\n",
       "      <td>0</td>\n",
       "      <td>0</td>\n",
       "      <td>2,1,1</td>\n",
       "      <td>2,1,1</td>\n",
       "      <td>1.333333</td>\n",
       "      <td>1.333333</td>\n",
       "      <td>42.456582</td>\n",
       "      <td>NaN</td>\n",
       "      <td>0</td>\n",
       "      <td>0</td>\n",
       "      <td>0</td>\n",
       "      <td>0</td>\n",
       "      <td>0</td>\n",
       "      <td>0</td>\n",
       "      <td>0</td>\n",
       "      <td>0</td>\n",
       "      <td>0</td>\n",
       "      <td>0</td>\n",
       "    </tr>\n",
       "    <tr>\n",
       "      <th>86</th>\n",
       "      <td>00086.bpmn</td>\n",
       "      <td>True</td>\n",
       "      <td>6</td>\n",
       "      <td>0</td>\n",
       "      <td>6</td>\n",
       "      <td>0</td>\n",
       "      <td>1</td>\n",
       "      <td>2</td>\n",
       "      <td>0</td>\n",
       "      <td>0</td>\n",
       "      <td>2</td>\n",
       "      <td>10</td>\n",
       "      <td>2</td>\n",
       "      <td>0</td>\n",
       "      <td>0.600000</td>\n",
       "      <td>1.000000</td>\n",
       "      <td>0.0</td>\n",
       "      <td>0.0</td>\n",
       "      <td>0.0</td>\n",
       "      <td>0.000000</td>\n",
       "      <td>86</td>\n",
       "      <td>43.000000</td>\n",
       "      <td>0.6627906976744186,0.3372093023255814</td>\n",
       "      <td>0.16279069767441856,-0.16279069767441862</td>\n",
       "      <td>-2.775558e-17</td>\n",
       "      <td>0,0</td>\n",
       "      <td>0,0</td>\n",
       "      <td>0</td>\n",
       "      <td>0</td>\n",
       "      <td>1,1</td>\n",
       "      <td>1,1</td>\n",
       "      <td>1.000000</td>\n",
       "      <td>1.000000</td>\n",
       "      <td>8.943993</td>\n",
       "      <td>NaN</td>\n",
       "      <td>0</td>\n",
       "      <td>0</td>\n",
       "      <td>1</td>\n",
       "      <td>0</td>\n",
       "      <td>0</td>\n",
       "      <td>0</td>\n",
       "      <td>0</td>\n",
       "      <td>0</td>\n",
       "      <td>0</td>\n",
       "      <td>0</td>\n",
       "    </tr>\n",
       "  </tbody>\n",
       "</table>\n",
       "</div>"
      ],
      "text/plain": [
       "      fileName  modelIsValidBPMN  modelTNT  modelTNCS  modelTNA  modelTNDO  \\\n",
       "5   00005.bpmn              True        15          0        15          0   \n",
       "13  00013.bpmn              True        11          0        11          0   \n",
       "14  00014.bpmn              True        11          0        11          0   \n",
       "79  00079.bpmn             False        12          0        12          1   \n",
       "86  00086.bpmn              True         6          0         6          0   \n",
       "\n",
       "    modelTNG  modelTNEE  modelTNIE  modelTNSE  modelTNE  modelTNSF  modelNP  \\\n",
       "5          4          3          1          1         3         27        3   \n",
       "13         2          2          3          3         2         20        2   \n",
       "14         2          3          4          4         2         21        2   \n",
       "79         9          5          7          7         4         37        3   \n",
       "86         1          2          0          0         2         10        2   \n",
       "\n",
       "    modelNL  modelCLA  modelCLP  modelPDOPin  modelPDOPout  modelPDOTOut  \\\n",
       "5         5  0.555556  1.000000          0.0           0.0           0.0   \n",
       "13        0  0.550000  4.000000          0.0           0.0           0.0   \n",
       "14        0  0.523810  3.000000          0.0           0.0           0.0   \n",
       "79        3  0.324324  2.333333          0.0           0.0           0.0   \n",
       "86        0  0.600000  1.000000          0.0           0.0           0.0   \n",
       "\n",
       "    modelPLT  tapeGU    tapeALU  \\\n",
       "5   0.333333     211  70.333333   \n",
       "13  0.000000       0   0.000000   \n",
       "14  0.000000     163  81.500000   \n",
       "79  0.250000     260  86.666667   \n",
       "86  0.000000      86  43.000000   \n",
       "\n",
       "                                              tapeRLU  \\\n",
       "5   0.6113744075829384,0.25118483412322273,0.13744...   \n",
       "13                                                NaN   \n",
       "14              0.4049079754601227,0.5950920245398773   \n",
       "79  0.5307692307692308,0.3730769230769231,0.096153...   \n",
       "86              0.6627906976744186,0.3372093023255814   \n",
       "\n",
       "                                              tapeLUB    tapeAvgLUB tapeDI  \\\n",
       "5   0.27804107424960506,-0.08214849921011058,-0.19...  9.251859e-18  0,0,0   \n",
       "13                                                NaN  0.000000e+00    NaN   \n",
       "14             -0.0950920245398773,0.0950920245398773  0.000000e+00    0,0   \n",
       "79  0.19743589743589746,0.03974358974358977,-0.237...  1.850372e-17  0,0,0   \n",
       "86           0.16279069767441856,-0.16279069767441862 -2.775558e-17    0,0   \n",
       "\n",
       "   tapeDD  tapeAvgDI  tapeAvgDD tapeMI tapeMD  tapeAvgMI  tapeAvgMD  \\\n",
       "5   0,0,0          0          0  2,1,0  1,1,1   1.000000   1.000000   \n",
       "13    NaN          0          0    NaN    NaN   0.000000   0.000000   \n",
       "14    0,0          0          0    1,1    1,1   1.000000   1.000000   \n",
       "79  0,0,0          0          0  2,1,1  2,1,1   1.333333   1.333333   \n",
       "86    0,0          0          0    1,1    1,1   1.000000   1.000000   \n",
       "\n",
       "    tapeExecutionTimeMs applicationDomain  endEventRequiredErrors  \\\n",
       "5             46.121494               NaN                       0   \n",
       "13            22.819357               NaN                       0   \n",
       "14            35.124959               NaN                       0   \n",
       "79            42.456582               NaN                       0   \n",
       "86             8.943993               NaN                       0   \n",
       "\n",
       "    startEventRequiredErrors  fakeJoinErrors  noDisconnectedErrors  \\\n",
       "5                          0               3                     0   \n",
       "13                         0               2                     0   \n",
       "14                         0               1                     0   \n",
       "79                         0               0                     0   \n",
       "86                         0               1                     0   \n",
       "\n",
       "    superfluousGatewayErrors  subProcessBlankStartEventErrors  \\\n",
       "5                          0                                0   \n",
       "13                         0                                0   \n",
       "14                         0                                0   \n",
       "79                         0                                0   \n",
       "86                         0                                0   \n",
       "\n",
       "    noGatewayJoinForkErrors  noImplicitSplitErrors  noInclusiveGatewayErrors  \\\n",
       "5                         0                      0                         0   \n",
       "13                        0                      0                         0   \n",
       "14                        0                      0                         0   \n",
       "79                        0                      0                         0   \n",
       "86                        0                      0                         0   \n",
       "\n",
       "    conditionalFlowErrors  \n",
       "5                       0  \n",
       "13                      0  \n",
       "14                      0  \n",
       "79                      0  \n",
       "86                      0  "
      ]
     },
     "execution_count": 381,
     "metadata": {},
     "output_type": "execute_result"
    }
   ],
   "source": [
    "unique_bpmn_6219_81_df.head()"
   ]
  },
  {
   "cell_type": "code",
   "execution_count": 382,
   "metadata": {},
   "outputs": [
    {
     "data": {
      "text/plain": [
       "array([ 3,  2,  4,  5, 11,  9,  7,  6, 13,  8, 12, 14, 10])"
      ]
     },
     "execution_count": 382,
     "metadata": {},
     "output_type": "execute_result"
    }
   ],
   "source": [
    "usable_bpmn_6219_81_df[\"modelNP\"].unique()"
   ]
  },
  {
   "cell_type": "code",
   "execution_count": 384,
   "metadata": {},
   "outputs": [
    {
     "data": {
      "text/plain": [
       "<AxesSubplot:>"
      ]
     },
     "execution_count": 384,
     "metadata": {},
     "output_type": "execute_result"
    },
    {
     "data": {
      "image/png": "[encoded data removed]",
      "text/plain": [
       "<Figure size 432x288 with 1 Axes>"
      ]
     },
     "metadata": {},
     "output_type": "display_data"
    }
   ],
   "source": [
    "usable_bpmn_6219_81_df[\"modelNP\"].hist()"
   ]
  },
  {
   "cell_type": "markdown",
   "metadata": {},
   "source": [
    "## Characteristics\n",
    "To get an overview over the raw dataset, we use violin plots to show the distribution of certain characteristics in the models and compare them later to the Metrics introduced with Trust Mining.\n",
    "\n",
    "The violin plots use a *kernel density estimator* with a width of 8 to smoothen the unequally distributed features."
   ]
  },
  {
   "cell_type": "code",
   "execution_count": 385,
   "metadata": {},
   "outputs": [],
   "source": [
    "import seaborn as sns\n",
    "import matplotlib as plt"
   ]
  },
  {
   "cell_type": "code",
   "execution_count": 386,
   "metadata": {},
   "outputs": [],
   "source": [
    "static_characteristics = unique_bpmn_6219_81_df[['modelTNT', 'modelTNCS', 'modelTNA',\n",
    "                                                'modelTNDO', 'modelTNG', 'modelTNEE', 'modelTNIE', 'modelTNSE',\n",
    "                                                'modelTNE', 'modelTNSF', 'modelNP', 'modelNL', 'modelCLA', 'modelCLP',\n",
    "                                                'modelPDOPin', 'modelPDOPout', 'modelPDOTOut', 'modelPLT', 'tapeGU',\n",
    "                                                'tapeALU', 'tapeRLU', 'tapeLUB', 'tapeAvgLUB',\n",
    "                                                'tapeAvgDI', 'tapeAvgDD', 'tapeAvgMI', 'tapeAvgMD',\n",
    "                                                'tapeExecutionTimeMs', 'applicationDomain', 'endEventRequiredErrors',\n",
    "                                                'startEventRequiredErrors', 'fakeJoinErrors', 'noDisconnectedErrors',\n",
    "                                                'superfluousGatewayErrors', 'subProcessBlankStartEventErrors',\n",
    "                                                'noGatewayJoinForkErrors', 'noImplicitSplitErrors',\n",
    "                                                'noInclusiveGatewayErrors', 'conditionalFlowErrors']]"
   ]
  },
  {
   "cell_type": "code",
   "execution_count": null,
   "metadata": {},
   "outputs": [],
   "source": []
  },
  {
   "cell_type": "code",
   "execution_count": null,
   "metadata": {},
   "outputs": [],
   "source": []
  },
  {
   "cell_type": "code",
   "execution_count": 387,
   "metadata": {},
   "outputs": [
    {
     "data": {
      "image/png": "[encoded data removed]",
      "text/plain": [
       "<Figure size 720x144 with 1 Axes>"
      ]
     },
     "metadata": {},
     "output_type": "display_data"
    }
   ],
   "source": [
    "raw_model_characteristics_activities = unique_bpmn_6219_81_df[['modelTNT', 'modelTNA']]\n",
    "raw_model_characteristics_activities_series_stacked = raw_model_characteristics_activities.stack()\n",
    "raw_model_characteristics_activities_series_stacked.index = raw_model_characteristics_activities_series_stacked.index.droplevel(level=0)\n",
    "raw_model_characteristics_activities_df = pd.DataFrame(raw_model_characteristics_activities_series_stacked).reset_index()\n",
    "raw_model_characteristics_activities_df.columns = ['feature', 'value']\n",
    "ax = sns.violinplot(x=\"value\", y=\"feature\", data=raw_model_characteristics_activities_df, scale=\"count\", palette=\"husl\", width=0.8, linewidth=0)\n",
    "ax.figure.set_size_inches(10, len(raw_model_characteristics_activities_df[\"feature\"].unique()))"
   ]
  },
  {
   "cell_type": "code",
   "execution_count": 388,
   "metadata": {},
   "outputs": [],
   "source": [
    "raw_model_characteristics = unique_bpmn_6219_81_df[['modelTNDO', 'modelTNG', 'modelTNEE', 'modelTNIE', 'modelTNSE',\n",
    "                                                'modelTNE', 'modelNP', 'modelNL', 'modelCLA', 'modelCLP']]"
   ]
  },
  {
   "cell_type": "code",
   "execution_count": 429,
   "metadata": {},
   "outputs": [
    {
     "data": {
      "text/plain": [
       "[<matplotlib.axis.XTick at 0x1260453d0>,\n",
       " <matplotlib.axis.XTick at 0x126045510>,\n",
       " <matplotlib.axis.XTick at 0x126045450>,\n",
       " <matplotlib.axis.XTick at 0x126a6de10>,\n",
       " <matplotlib.axis.XTick at 0x1260343d0>,\n",
       " <matplotlib.axis.XTick at 0x126034950>,\n",
       " <matplotlib.axis.XTick at 0x126034e90>,\n",
       " <matplotlib.axis.XTick at 0x126a75410>,\n",
       " <matplotlib.axis.XTick at 0x126034490>,\n",
       " <matplotlib.axis.XTick at 0x126a61990>,\n",
       " <matplotlib.axis.XTick at 0x126a75310>,\n",
       " <matplotlib.axis.XTick at 0x126a75a50>,\n",
       " <matplotlib.axis.XTick at 0x126a75f90>,\n",
       " <matplotlib.axis.XTick at 0x126a7f510>,\n",
       " <matplotlib.axis.XTick at 0x126a7fa50>,\n",
       " <matplotlib.axis.XTick at 0x126a7ff90>,\n",
       " <matplotlib.axis.XTick at 0x126a88510>,\n",
       " <matplotlib.axis.XTick at 0x126a7f590>,\n",
       " <matplotlib.axis.XTick at 0x126034d90>,\n",
       " <matplotlib.axis.XTick at 0x126a88910>,\n",
       " <matplotlib.axis.XTick at 0x126a88e10>]"
      ]
     },
     "execution_count": 429,
     "metadata": {},
     "output_type": "execute_result"
    },
    {
     "data": {
      "image/png": "[encoded data removed]",
      "text/plain": [
       "<Figure size 1080x720 with 1 Axes>"
      ]
     },
     "metadata": {},
     "output_type": "display_data"
    }
   ],
   "source": [
    "raw_model_characteristics_series_stacked = raw_model_characteristics.stack()\n",
    "raw_model_characteristics_series_stacked.index = raw_model_characteristics_series_stacked.index.droplevel(level=0)\n",
    "raw_model_df = pd.DataFrame(raw_model_characteristics_series_stacked).reset_index()\n",
    "raw_model_df.columns = ['feature', 'value']\n",
    "ax = sns.violinplot(x=\"value\", y=\"feature\", data=raw_model_df, scale=\"count\", palette=\"husl\", width=0.8, cut=0, inner=\"stick\", bw=0.1, linewidth=0.8)\n",
    "ax.figure.set_size_inches(15, len(raw_model_df[\"feature\"].unique()))\n",
    "ax.set_xlim(0,20)\n",
    "ax.set_xticks(np.arange(0,21))"
   ]
  },
  {
   "cell_type": "code",
   "execution_count": null,
   "metadata": {},
   "outputs": [],
   "source": []
  },
  {
   "cell_type": "code",
   "execution_count": 390,
   "metadata": {},
   "outputs": [
    {
     "data": {
      "text/plain": [
       "<seaborn.axisgrid.FacetGrid at 0x121d3dbd0>"
      ]
     },
     "execution_count": 390,
     "metadata": {},
     "output_type": "execute_result"
    },
    {
     "data": {
      "image/png": "[encoded data removed]",
      "text/plain": [
       "<Figure size 360x3600 with 10 Axes>"
      ]
     },
     "metadata": {},
     "output_type": "display_data"
    }
   ],
   "source": [
    "sns.displot(raw_model_df, x=\"value\", row=\"feature\")"
   ]
  },
  {
   "cell_type": "code",
   "execution_count": 220,
   "metadata": {},
   "outputs": [
    {
     "data": {
      "text/plain": [
       "<AxesSubplot:>"
      ]
     },
     "execution_count": 220,
     "metadata": {},
     "output_type": "execute_result"
    },
    {
     "data": {
      "image/png": "[encoded data removed]",
      "text/plain": [
       "<Figure size 432x288 with 1 Axes>"
      ]
     },
     "metadata": {},
     "output_type": "display_data"
    }
   ],
   "source": [
    "usable_bpmn_6219_81_df[\"modelNP\"].hist()"
   ]
  },
  {
   "cell_type": "code",
   "execution_count": null,
   "metadata": {},
   "outputs": [],
   "source": []
  },
  {
   "cell_type": "code",
   "execution_count": 169,
   "metadata": {},
   "outputs": [
    {
     "name": "stdout",
     "output_type": "stream",
     "text": [
      "Requirement already satisfied: seaborn in /usr/local/lib/python3.7/site-packages (0.11.0)\n",
      "Requirement already satisfied: pandas>=0.23 in /usr/local/lib/python3.7/site-packages (from seaborn) (1.1.4)\n",
      "Requirement already satisfied: numpy>=1.15 in /usr/local/lib/python3.7/site-packages (from seaborn) (1.19.4)\n",
      "Requirement already satisfied: matplotlib>=2.2 in /usr/local/lib/python3.7/site-packages (from seaborn) (3.3.3)\n",
      "Requirement already satisfied: scipy>=1.0 in /usr/local/lib/python3.7/site-packages (from seaborn) (1.5.4)\n",
      "Requirement already satisfied: python-dateutil>=2.7.3 in /usr/local/lib/python3.7/site-packages (from pandas>=0.23->seaborn) (2.8.1)\n",
      "Requirement already satisfied: pytz>=2017.2 in /usr/local/lib/python3.7/site-packages (from pandas>=0.23->seaborn) (2020.4)\n",
      "Requirement already satisfied: cycler>=0.10 in /usr/local/lib/python3.7/site-packages (from matplotlib>=2.2->seaborn) (0.10.0)\n",
      "Requirement already satisfied: pyparsing!=2.0.4,!=2.1.2,!=2.1.6,>=2.0.3 in /usr/local/lib/python3.7/site-packages (from matplotlib>=2.2->seaborn) (2.4.7)\n",
      "Requirement already satisfied: pillow>=6.2.0 in /usr/local/lib/python3.7/site-packages (from matplotlib>=2.2->seaborn) (8.0.1)\n",
      "Requirement already satisfied: kiwisolver>=1.0.1 in /usr/local/lib/python3.7/site-packages (from matplotlib>=2.2->seaborn) (1.3.1)\n",
      "Requirement already satisfied: six>=1.5 in /usr/local/lib/python3.7/site-packages (from python-dateutil>=2.7.3->pandas>=0.23->seaborn) (1.15.0)\n"
     ]
    }
   ],
   "source": [
    "import sys\n",
    "!{sys.executable} -m pip install seaborn"
   ]
  },
  {
   "cell_type": "code",
   "execution_count": null,
   "metadata": {},
   "outputs": [],
   "source": []
  },
  {
   "cell_type": "code",
   "execution_count": null,
   "metadata": {},
   "outputs": [],
   "source": []
  },
  {
   "cell_type": "code",
   "execution_count": null,
   "metadata": {},
   "outputs": [],
   "source": []
  },
  {
   "cell_type": "code",
   "execution_count": null,
   "metadata": {},
   "outputs": [],
   "source": []
  },
  {
   "cell_type": "code",
   "execution_count": null,
   "metadata": {},
   "outputs": [],
   "source": []
  },
  {
   "cell_type": "code",
   "execution_count": null,
   "metadata": {},
   "outputs": [],
   "source": []
  },
  {
   "cell_type": "code",
   "execution_count": null,
   "metadata": {},
   "outputs": [],
   "source": []
  },
  {
   "cell_type": "code",
   "execution_count": null,
   "metadata": {},
   "outputs": [],
   "source": []
  },
  {
   "cell_type": "code",
   "execution_count": null,
   "metadata": {},
   "outputs": [],
   "source": []
  },
  {
   "cell_type": "code",
   "execution_count": null,
   "metadata": {},
   "outputs": [],
   "source": []
  },
  {
   "cell_type": "code",
   "execution_count": null,
   "metadata": {},
   "outputs": [],
   "source": []
  },
  {
   "cell_type": "code",
   "execution_count": null,
   "metadata": {},
   "outputs": [],
   "source": []
  },
  {
   "cell_type": "code",
   "execution_count": null,
   "metadata": {},
   "outputs": [],
   "source": []
  },
  {
   "cell_type": "code",
   "execution_count": null,
   "metadata": {},
   "outputs": [],
   "source": []
  },
  {
   "cell_type": "code",
   "execution_count": null,
   "metadata": {},
   "outputs": [],
   "source": []
  },
  {
   "cell_type": "code",
   "execution_count": null,
   "metadata": {},
   "outputs": [],
   "source": []
  },
  {
   "cell_type": "code",
   "execution_count": null,
   "metadata": {},
   "outputs": [],
   "source": []
  },
  {
   "cell_type": "code",
   "execution_count": null,
   "metadata": {},
   "outputs": [],
   "source": []
  },
  {
   "cell_type": "code",
   "execution_count": null,
   "metadata": {},
   "outputs": [],
   "source": []
  },
  {
   "cell_type": "code",
   "execution_count": null,
   "metadata": {},
   "outputs": [],
   "source": []
  },
  {
   "cell_type": "code",
   "execution_count": null,
   "metadata": {},
   "outputs": [],
   "source": []
  },
  {
   "cell_type": "code",
   "execution_count": null,
   "metadata": {},
   "outputs": [],
   "source": []
  },
  {
   "cell_type": "code",
   "execution_count": null,
   "metadata": {},
   "outputs": [],
   "source": []
  },
  {
   "cell_type": "code",
   "execution_count": null,
   "metadata": {},
   "outputs": [],
   "source": []
  },
  {
   "cell_type": "code",
   "execution_count": null,
   "metadata": {},
   "outputs": [],
   "source": []
  },
  {
   "cell_type": "code",
   "execution_count": null,
   "metadata": {},
   "outputs": [],
   "source": []
  },
  {
   "cell_type": "code",
   "execution_count": null,
   "metadata": {},
   "outputs": [],
   "source": []
  },
  {
   "cell_type": "code",
   "execution_count": null,
   "metadata": {},
   "outputs": [],
   "source": []
  },
  {
   "cell_type": "code",
   "execution_count": null,
   "metadata": {},
   "outputs": [],
   "source": []
  },
  {
   "cell_type": "code",
   "execution_count": null,
   "metadata": {},
   "outputs": [],
   "source": []
  },
  {
   "cell_type": "code",
   "execution_count": null,
   "metadata": {},
   "outputs": [],
   "source": []
  },
  {
   "cell_type": "code",
   "execution_count": null,
   "metadata": {},
   "outputs": [],
   "source": []
  },
  {
   "cell_type": "code",
   "execution_count": null,
   "metadata": {},
   "outputs": [],
   "source": []
  },
  {
   "cell_type": "code",
   "execution_count": null,
   "metadata": {},
   "outputs": [],
   "source": []
  },
  {
   "cell_type": "code",
   "execution_count": null,
   "metadata": {},
   "outputs": [],
   "source": []
  },
  {
   "cell_type": "code",
   "execution_count": null,
   "metadata": {},
   "outputs": [],
   "source": []
  },
  {
   "cell_type": "code",
   "execution_count": null,
   "metadata": {},
   "outputs": [],
   "source": []
  },
  {
   "cell_type": "code",
   "execution_count": null,
   "metadata": {},
   "outputs": [],
   "source": []
  },
  {
   "cell_type": "code",
   "execution_count": null,
   "metadata": {},
   "outputs": [],
   "source": []
  },
  {
   "cell_type": "code",
   "execution_count": null,
   "metadata": {},
   "outputs": [],
   "source": []
  },
  {
   "cell_type": "code",
   "execution_count": null,
   "metadata": {},
   "outputs": [],
   "source": []
  },
  {
   "cell_type": "code",
   "execution_count": null,
   "metadata": {},
   "outputs": [],
   "source": []
  },
  {
   "cell_type": "code",
   "execution_count": null,
   "metadata": {},
   "outputs": [],
   "source": []
  }
 ],
 "metadata": {
  "kernelspec": {
   "display_name": "Python 3",
   "language": "python",
   "name": "python3"
  },
  "language_info": {
   "codemirror_mode": {
    "name": "ipython",
    "version": 3
   },
   "file_extension": ".py",
   "mimetype": "text/x-python",
   "name": "python",
   "nbconvert_exporter": "python",
   "pygments_lexer": "ipython3",
   "version": "3.7.6"
  }
 },
 "nbformat": 4,
 "nbformat_minor": 4
}
